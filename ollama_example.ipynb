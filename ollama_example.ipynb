{
 "cells": [
  {
   "cell_type": "markdown",
   "metadata": {},
   "source": [
    "# Using Ollama\n",
    "This notebook is to highlight an example i have created of how to use [Ollama](https://ollama.com/): an open source hub method of interacting with publicly available Generative AI Large Language Models (LLM's) such as llama 3 , Gemma and more."
   ]
  },
  {
   "cell_type": "markdown",
   "metadata": {},
   "source": [
    "This Notebook will interact with the ollama interface, pick a model, create relevant prompts, and see what answers come back. Addiitonally, we can banchmark the response with something like ChatGPT 3.5 ( which is free) provided by OpenAI.\n"
   ]
  },
  {
   "cell_type": "markdown",
   "metadata": {},
   "source": [
    "# Import Relevant Libraries"
   ]
  },
  {
   "cell_type": "code",
   "execution_count": 16,
   "metadata": {},
   "outputs": [],
   "source": [
    "import ollama as ol"
   ]
  },
  {
   "cell_type": "markdown",
   "metadata": {},
   "source": [
    "## See what models are available to us?\n",
    "NOTE: you may need to run ollama in the terminal (windows) to pull down a model you wish to use first, before being able to interact with said model. for this case, I have pulled down two models:\n",
    "- [Solar](https://huggingface.co/upstage/SOLAR-10.7B-v1.0) \n",
    "- [Gemma:2b](https://blog.google/technology/developers/gemma-open-models/)"
   ]
  },
  {
   "cell_type": "code",
   "execution_count": 14,
   "metadata": {},
   "outputs": [
    {
     "data": {
      "text/plain": [
       "{'models': [{'name': 'gemma:2b',\n",
       "   'model': 'gemma:2b',\n",
       "   'modified_at': '2024-05-06T14:54:57.5745969+01:00',\n",
       "   'size': 1678456656,\n",
       "   'digest': 'b50d6c999e592ae4f79acae23b4feaefbdfceaa7cd366df2610e3072c052a160',\n",
       "   'details': {'parent_model': '',\n",
       "    'format': 'gguf',\n",
       "    'family': 'gemma',\n",
       "    'families': ['gemma'],\n",
       "    'parameter_size': '3B',\n",
       "    'quantization_level': 'Q4_0'}},\n",
       "  {'name': 'solar:latest',\n",
       "   'model': 'solar:latest',\n",
       "   'modified_at': '2024-05-06T14:38:05.4244416+01:00',\n",
       "   'size': 6072384211,\n",
       "   'digest': '059fdabbe6e66af42bb0e9fa07d9dd359c085d5973df1345d94327e9117d9cd9',\n",
       "   'details': {'parent_model': '',\n",
       "    'format': 'gguf',\n",
       "    'family': 'llama',\n",
       "    'families': ['llama'],\n",
       "    'parameter_size': '11B',\n",
       "    'quantization_level': 'Q4_0'}}]}"
      ]
     },
     "execution_count": 14,
     "metadata": {},
     "output_type": "execute_result"
    }
   ],
   "source": [
    "# List the models that have been installed via ollama\n",
    "ol.list()"
   ]
  },
  {
   "cell_type": "markdown",
   "metadata": {},
   "source": [
    "## Lets Test a Prompt to use"
   ]
  },
  {
   "cell_type": "code",
   "execution_count": 10,
   "metadata": {},
   "outputs": [
    {
     "name": "stdout",
     "output_type": "stream",
     "text": [
      " A neural network is a computational system modeled after the human brain's neuron structure. It consists of interconnected processing units called artificial neurons that can learn and recognize patterns in data by adjusting their connections through training. They are widely used in machine learning for tasks such as classification, regression, and image recognition.\n"
     ]
    }
   ],
   "source": [
    "prompt = \"In less than 100 words or shorter, how would you describe a Neural Network?\"\n",
    "\n",
    "response = ol.chat(\n",
    "                    model = 'solar'\n",
    "                    ,messages = [{\n",
    "                                    'role': 'user'\n",
    "                                    ,'content' :prompt\n",
    "                                }]\n",
    "                  )\n",
    "\n",
    "print(response['message']['content'])"
   ]
  },
  {
   "cell_type": "code",
   "execution_count": 15,
   "metadata": {},
   "outputs": [
    {
     "name": "stdout",
     "output_type": "stream",
     "text": [
      "A Neural Network is a complex computer system inspired by the human brain. It's made up of interconnected nodes that learn and adapt to new information by adjusting their connections.\n"
     ]
    }
   ],
   "source": [
    "prompt = \"In less than 100 words or shorter, how would you describe a Neural Network?\"\n",
    "\n",
    "response = ol.chat(\n",
    "                    model = 'gemma:2b'\n",
    "                    ,messages = [{\n",
    "                                    'role': 'user'\n",
    "                                    ,'content' :prompt\n",
    "                                }]\n",
    "                  )\n",
    "\n",
    "print(response['message']['content'])"
   ]
  }
 ],
 "metadata": {
  "kernelspec": {
   "display_name": "Python 3",
   "language": "python",
   "name": "python3"
  },
  "language_info": {
   "codemirror_mode": {
    "name": "ipython",
    "version": 3
   },
   "file_extension": ".py",
   "mimetype": "text/x-python",
   "name": "python",
   "nbconvert_exporter": "python",
   "pygments_lexer": "ipython3",
   "version": "3.12.2"
  }
 },
 "nbformat": 4,
 "nbformat_minor": 2
}
